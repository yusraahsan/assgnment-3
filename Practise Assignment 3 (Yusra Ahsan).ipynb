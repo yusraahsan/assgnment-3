{
 "cells": [
  {
   "cell_type": "markdown",
   "metadata": {},
   "source": [
    "# Q1:"
   ]
  },
  {
   "cell_type": "markdown",
   "metadata": {},
   "source": [
    "Think of at least three kinds of your favorite pizza. Store these pizza names in a list, and then use a for loop to print the name of each pizza."
   ]
  },
  {
   "cell_type": "code",
   "execution_count": 2,
   "metadata": {},
   "outputs": [
    {
     "name": "stdout",
     "output_type": "stream",
     "text": [
      "pepperoni\n",
      "hawaiian\n",
      "veggie\n",
      "\n",
      "\n",
      "I really love pepperoni pizza!\n",
      "I really love hawaiian pizza!\n",
      "I really love veggie pizza!\n",
      "\n",
      "I really love pizza!\n"
     ]
    }
   ],
   "source": [
    "favorite_pizzas = ['pepperoni', 'hawaiian', 'veggie']\n",
    "for pizza in favorite_pizzas:\n",
    "    print(pizza)\n",
    "\n",
    "print(\"\\n\")\n",
    "for pizza in favorite_pizzas:\n",
    "    print(\"I really love \" + pizza + \" pizza!\")\n",
    "\n",
    "print(\"\\nI really love pizza!\")"
   ]
  },
  {
   "cell_type": "markdown",
   "metadata": {},
   "source": [
    "# Q2"
   ]
  },
  {
   "cell_type": "markdown",
   "metadata": {},
   "source": [
    "Start with your last question , Modify your for loop to print a sentence using the name of the pizza\n",
    "instead of printing just the name of the pizza. For each pizza you should\n",
    "have one line of output containing a simple statement like I like pepperoni\n",
    "pizza."
   ]
  },
  {
   "cell_type": "code",
   "execution_count": 3,
   "metadata": {},
   "outputs": [
    {
     "name": "stdout",
     "output_type": "stream",
     "text": [
      "i like pepperoni pizzas.\n",
      "i like hawaiian pizzas.\n",
      "i like veggie pizzas.\n"
     ]
    }
   ],
   "source": [
    "pizzas = [\"pepperoni\", \"hawaiian\",\"veggie\"]\n",
    "for pizza in pizzas:\n",
    "    print (\"i like \"  + pizza + \" pizzas.\")"
   ]
  },
  {
   "cell_type": "code",
   "execution_count": null,
   "metadata": {},
   "outputs": [],
   "source": []
  },
  {
   "cell_type": "code",
   "execution_count": null,
   "metadata": {},
   "outputs": [],
   "source": []
  },
  {
   "cell_type": "markdown",
   "metadata": {},
   "source": [
    "# Q3:"
   ]
  },
  {
   "cell_type": "markdown",
   "metadata": {},
   "source": [
    "Use a for loop to print the numbers from 1 to 20,\n",
    "inclusive."
   ]
  },
  {
   "cell_type": "code",
   "execution_count": 4,
   "metadata": {},
   "outputs": [
    {
     "name": "stdout",
     "output_type": "stream",
     "text": [
      "1\n",
      "2\n",
      "3\n",
      "4\n",
      "5\n",
      "6\n",
      "7\n",
      "8\n",
      "9\n",
      "10\n",
      "11\n",
      "12\n",
      "13\n",
      "14\n",
      "15\n",
      "16\n",
      "17\n",
      "18\n",
      "19\n",
      "20\n"
     ]
    }
   ],
   "source": [
    "numbers = list(range(1, 21))\n",
    "\n",
    "for number in numbers:\n",
    "    print(number)"
   ]
  },
  {
   "cell_type": "code",
   "execution_count": null,
   "metadata": {},
   "outputs": [],
   "source": []
  },
  {
   "cell_type": "code",
   "execution_count": null,
   "metadata": {},
   "outputs": [],
   "source": []
  },
  {
   "cell_type": "markdown",
   "metadata": {},
   "source": [
    "# Q4:"
   ]
  },
  {
   "cell_type": "markdown",
   "metadata": {},
   "source": [
    "Use the third argument of the range() function to make a list\n",
    "of the odd numbers from 1 to 20. Use a for loop to print each number."
   ]
  },
  {
   "cell_type": "code",
   "execution_count": 5,
   "metadata": {},
   "outputs": [
    {
     "name": "stdout",
     "output_type": "stream",
     "text": [
      "1\n",
      "3\n",
      "5\n",
      "7\n",
      "9\n",
      "11\n",
      "13\n",
      "15\n",
      "17\n",
      "19\n"
     ]
    }
   ],
   "source": [
    "num = [\"1,3,5,9,11,13,15,19\"]\n",
    "for num in range (1,21,2):\n",
    "    print (num)"
   ]
  },
  {
   "cell_type": "code",
   "execution_count": null,
   "metadata": {},
   "outputs": [],
   "source": []
  },
  {
   "cell_type": "code",
   "execution_count": null,
   "metadata": {},
   "outputs": [],
   "source": []
  },
  {
   "cell_type": "markdown",
   "metadata": {},
   "source": [
    "# Q5:"
   ]
  },
  {
   "cell_type": "markdown",
   "metadata": {},
   "source": [
    "Make a list of the multiples of 3 from 3 to 30. Use a for loop to\n",
    "print the numbers in your list."
   ]
  },
  {
   "cell_type": "code",
   "execution_count": 6,
   "metadata": {},
   "outputs": [
    {
     "name": "stdout",
     "output_type": "stream",
     "text": [
      "3\n",
      "6\n",
      "9\n",
      "12\n",
      "15\n",
      "18\n",
      "21\n",
      "24\n",
      "27\n",
      "30\n"
     ]
    }
   ],
   "source": [
    "threes = list(range(3, 31, 3))\n",
    "\n",
    "for number in threes:\n",
    "    print(number)"
   ]
  },
  {
   "cell_type": "code",
   "execution_count": null,
   "metadata": {},
   "outputs": [],
   "source": []
  },
  {
   "cell_type": "code",
   "execution_count": null,
   "metadata": {},
   "outputs": [],
   "source": []
  },
  {
   "cell_type": "code",
   "execution_count": null,
   "metadata": {},
   "outputs": [],
   "source": []
  },
  {
   "cell_type": "markdown",
   "metadata": {},
   "source": [
    "# Q6:"
   ]
  },
  {
   "cell_type": "markdown",
   "metadata": {},
   "source": [
    "A number raised to the third power is called a cube. For example,\n",
    "the cube of 2 is written as 2**3 in Python. Make a list of the first 10 cubes (that\n",
    "is, the cube of each integer from 1 through 10), and use a for loop to print out\n",
    "the value of each cube"
   ]
  },
  {
   "cell_type": "code",
   "execution_count": 7,
   "metadata": {},
   "outputs": [
    {
     "name": "stdout",
     "output_type": "stream",
     "text": [
      "1\n",
      "8\n",
      "27\n",
      "64\n",
      "125\n",
      "216\n",
      "343\n",
      "512\n",
      "729\n",
      "1000\n"
     ]
    }
   ],
   "source": [
    "cubes = []\n",
    "for number in range(1, 11):\n",
    "    cube = number**3\n",
    "    cubes.append(cube)\n",
    "\n",
    "for cube in cubes:\n",
    "    print(cube)"
   ]
  },
  {
   "cell_type": "code",
   "execution_count": null,
   "metadata": {},
   "outputs": [],
   "source": []
  },
  {
   "cell_type": "code",
   "execution_count": null,
   "metadata": {},
   "outputs": [],
   "source": []
  },
  {
   "cell_type": "code",
   "execution_count": null,
   "metadata": {},
   "outputs": [],
   "source": []
  },
  {
   "cell_type": "markdown",
   "metadata": {},
   "source": [
    "# Q7:"
   ]
  },
  {
   "cell_type": "markdown",
   "metadata": {},
   "source": [
    "###### Make a python program that conatains your nine favourite dishes in a list called foods.\n",
    "\n",
    "###### Print the message, The first three items in the list are:. \n",
    "###### Then use a slice to print the first three items from that program’s list.\n",
    "\n",
    "###### Print the message, Three items from the middle of the list are:\n",
    "###### Use a slice to print three items from the middle of the list.\n",
    "\n",
    "###### Print the message, The last three items in the list are:\n",
    "###### Use a slice to print the last three items in the list."
   ]
  },
  {
   "cell_type": "code",
   "execution_count": 8,
   "metadata": {},
   "outputs": [
    {
     "name": "stdout",
     "output_type": "stream",
     "text": [
      "The first three items in the list are:\n",
      "\n",
      "pilao\n",
      "qeema\n",
      "behari botti\n",
      "\n",
      "Three items from the middle of the list are:\n",
      "\n",
      "singaporian rice\n",
      "chowmein\n",
      "biryani\n",
      "\n",
      "The last three items in the list are:\n",
      "\n",
      "koftaa\n",
      "kabab\n",
      "tehari\n"
     ]
    }
   ],
   "source": [
    "dishes= [\"pilao\",\"qeema\",\"behari botti\",\"singaporian rice\",\"chowmein\",\"biryani\",\"koftaa\",\"kabab\",\"tehari\"]\n",
    "\n",
    "print(\"The first three items in the list are:\\n\")\n",
    "\n",
    "for item in dishes[:3]:\n",
    "    print(item)\n",
    "    \n",
    "print(\"\\nThree items from the middle of the list are:\\n\")\n",
    "\n",
    "for item in dishes[3:6]:\n",
    "    print(item)\n",
    "    \n",
    "print(\"\\nThe last three items in the list are:\\n\")\n",
    "\n",
    "for item in dishes[6:]:\n",
    "    print(item)"
   ]
  },
  {
   "cell_type": "code",
   "execution_count": null,
   "metadata": {},
   "outputs": [],
   "source": []
  },
  {
   "cell_type": "code",
   "execution_count": null,
   "metadata": {},
   "outputs": [],
   "source": []
  },
  {
   "cell_type": "code",
   "execution_count": null,
   "metadata": {},
   "outputs": [],
   "source": []
  },
  {
   "cell_type": "code",
   "execution_count": null,
   "metadata": {},
   "outputs": [],
   "source": []
  },
  {
   "cell_type": "code",
   "execution_count": null,
   "metadata": {},
   "outputs": [],
   "source": []
  },
  {
   "cell_type": "code",
   "execution_count": null,
   "metadata": {},
   "outputs": [],
   "source": []
  },
  {
   "cell_type": "markdown",
   "metadata": {},
   "source": [
    "# Q8:"
   ]
  },
  {
   "cell_type": "markdown",
   "metadata": {},
   "source": [
    "### Start with your program from your last Question8.\n",
    "###### Make a copy of the list of foods, and call it friend_foods.\n",
    "###### Then, do the following:\n",
    "######    Add a new dish to the original list.\n",
    "######    Add a different dish to the list friend_foodss.\n",
    "######    Prove that you have two separate lists. \n",
    "###### Print the message, My favorite pizzas are: and then use a for loop to print the first list. \n",
    "###### Print the message,\n",
    "###### My friend’s favorite foods are:, and then use a for loop to print the second list.\n",
    "    \n",
    "##### NOTE: Make sure each new dish is stored in the appropriate list."
   ]
  },
  {
   "cell_type": "code",
   "execution_count": 9,
   "metadata": {},
   "outputs": [
    {
     "name": "stdout",
     "output_type": "stream",
     "text": [
      "my favorite foods are:\n",
      "\n",
      "pilao\n",
      "qeema\n",
      "behari botti\n",
      "singaporian rice\n",
      "chowmein\n",
      "biryani\n",
      "koftaa\n",
      "kabab\n",
      "tehari\n",
      "peshawri karahi\n",
      "\n",
      "my friend's favorite foods are:\n",
      "\n",
      "pilao\n",
      "qeema\n",
      "behari botti\n",
      "singaporian rice\n",
      "chowmein\n",
      "biryani\n",
      "koftaa\n",
      "kabab\n",
      "tehari\n",
      "Allo Gosht\n"
     ]
    }
   ],
   "source": [
    "new_foods = [\"pilao\",\"qeema\",\"behari botti\",\"singaporian rice\",\"chowmein\",\"biryani\",\"koftaa\",\"kabab\",\"tehari\"]\n",
    "\n",
    "friend_foods = new_foods.copy()\n",
    "\n",
    "new_foods.append(\"peshawri karahi\")\n",
    "\n",
    "friend_foods.append(\"Allo Gosht\")\n",
    "\n",
    "print(\"my favorite foods are:\\n\")\n",
    "\n",
    "for food in new_foods:\n",
    "    print(food)\n",
    "    \n",
    "print(\"\\nmy friend's favorite foods are:\\n\")\n",
    "\n",
    "for food in friend_foods:\n",
    "    print(food)\n"
   ]
  },
  {
   "cell_type": "code",
   "execution_count": null,
   "metadata": {},
   "outputs": [],
   "source": []
  },
  {
   "cell_type": "code",
   "execution_count": null,
   "metadata": {},
   "outputs": [],
   "source": []
  },
  {
   "cell_type": "code",
   "execution_count": null,
   "metadata": {},
   "outputs": [],
   "source": []
  },
  {
   "cell_type": "code",
   "execution_count": null,
   "metadata": {},
   "outputs": [],
   "source": []
  },
  {
   "cell_type": "code",
   "execution_count": null,
   "metadata": {},
   "outputs": [],
   "source": [
    " "
   ]
  },
  {
   "cell_type": "code",
   "execution_count": null,
   "metadata": {},
   "outputs": [],
   "source": []
  },
  {
   "cell_type": "markdown",
   "metadata": {},
   "source": [
    "# Q9:"
   ]
  },
  {
   "cell_type": "markdown",
   "metadata": {},
   "source": [
    "Take a user input from console line.Store it in a variable called Alien_color.\n",
    "\n",
    "If the alien’s color is red, print a statement that the player just earned 5 points for shooting the alien.\n",
    "\n",
    "If the alien’s color isn’t green, print a statement that the player just earned 10 points.\n",
    "\n",
    "If the alien's color isn't red or green , print a statment :, Alien is no more....."
   ]
  },
  {
   "cell_type": "code",
   "execution_count": 10,
   "metadata": {},
   "outputs": [
    {
     "name": "stdout",
     "output_type": "stream",
     "text": [
      "Enter Alien Color: brown\n",
      "The player just earned 10 points.\n"
     ]
    }
   ],
   "source": [
    "alien_color = input(\"Enter Alien Color: \")\n",
    "\n",
    "alien_color = alien_color.lower()\n",
    "\n",
    "if alien_color == \"red\":\n",
    "    print(\"The player just earned 5 points for shooting the alien.\")\n",
    "elif alien_color != \"green\":\n",
    "    print(\"The player just earned 10 points.\")\n",
    "else:\n",
    "    print(\"Alien is no more.....\")"
   ]
  },
  {
   "cell_type": "code",
   "execution_count": null,
   "metadata": {},
   "outputs": [],
   "source": []
  },
  {
   "cell_type": "code",
   "execution_count": null,
   "metadata": {},
   "outputs": [],
   "source": []
  },
  {
   "cell_type": "code",
   "execution_count": null,
   "metadata": {},
   "outputs": [],
   "source": []
  },
  {
   "cell_type": "markdown",
   "metadata": {},
   "source": [
    "# Q10:"
   ]
  },
  {
   "cell_type": "markdown",
   "metadata": {},
   "source": [
    "Write an if-elif-else chain that determines a person’s\n",
    "stage of life. Set a value for the variable age, and then:\n",
    "    \n",
    "•\t If the person is less than 2 years old, print a message that the person is a baby.\n",
    "\n",
    "•\t If the person is at least 2 years old but less than 4, print a message that the person is a toddler.\n",
    "\n",
    "•\t If the person is at least 4 years old but less than 13, print a message that the person is a kid.\n",
    "\n",
    "•\t If the person is at least 13 years old but less than 20, print a message that the person is a teenager.\n",
    "\n",
    "•\t If the person is at least 20 years old but less than 65, print a message that the person is an adult.\n",
    "\n",
    "•\t If the person is age 65 or older, print a message that the person is an elder."
   ]
  },
  {
   "cell_type": "code",
   "execution_count": 11,
   "metadata": {},
   "outputs": [
    {
     "name": "stdout",
     "output_type": "stream",
     "text": [
      "You're a teenager!\n"
     ]
    }
   ],
   "source": [
    "age = 17\n",
    "\n",
    "if age < 2:\n",
    "    print(\"You're a baby!\")\n",
    "elif age < 4:\n",
    "    print(\"You're a toddler!\")\n",
    "elif age < 13:\n",
    "    print(\"You're a kid!\")\n",
    "elif age < 20:\n",
    "    print(\"You're a teenager!\")\n",
    "elif age < 65:\n",
    "    print(\"You're an adult!\")\n",
    "else:\n",
    "    print(\"You're an elder!\")"
   ]
  },
  {
   "cell_type": "code",
   "execution_count": null,
   "metadata": {},
   "outputs": [],
   "source": []
  },
  {
   "cell_type": "code",
   "execution_count": null,
   "metadata": {},
   "outputs": [],
   "source": []
  },
  {
   "cell_type": "code",
   "execution_count": null,
   "metadata": {},
   "outputs": [],
   "source": []
  },
  {
   "cell_type": "code",
   "execution_count": null,
   "metadata": {},
   "outputs": [],
   "source": []
  },
  {
   "cell_type": "code",
   "execution_count": null,
   "metadata": {},
   "outputs": [],
   "source": []
  },
  {
   "cell_type": "markdown",
   "metadata": {},
   "source": [
    "# Q11:"
   ]
  },
  {
   "cell_type": "markdown",
   "metadata": {},
   "source": [
    "Do the following to create a program that simulates how websites ensure that everyone has a unique username.\n",
    "\n",
    "•\t Make a list of five or more usernames called current_users.\n",
    "\n",
    "•\t Make another list of five usernames called new_users. \n",
    "Make sure one or two of the new usernames are also in the current_users list.\n",
    "\n",
    "•\t Loop through the new_users list to see if each new username has already been used. \n",
    "If it has, print a message that the person will need to enter a new username. \n",
    "If a username has not been used, print a message saying that the username is available.\n",
    "\n",
    "•\t Make sure your comparison is case insensitive. If 'John' has been used, 'JOHN' should not be accepted."
   ]
  },
  {
   "cell_type": "code",
   "execution_count": 12,
   "metadata": {},
   "outputs": [
    {
     "name": "stdout",
     "output_type": "stream",
     "text": [
      "Great, sarah is still available.\n",
      "Sorry Willie, that name is taken.\n",
      "Great, PHIL is still available.\n",
      "Sorry ever, that name is taken.\n",
      "Great, Iona is still available.\n"
     ]
    }
   ],
   "source": [
    "current_users = ['eric', 'willie', 'admin', 'erin', 'Ever']\n",
    "new_users = ['sarah', 'Willie', 'PHIL', 'ever', 'Iona']\n",
    "\n",
    "current_users_lower = [user.lower() for user in current_users]\n",
    "\n",
    "for new_user in new_users:\n",
    "    if new_user.lower() in current_users_lower:\n",
    "        print(\"Sorry \" + new_user + \", that name is taken.\")\n",
    "    else:\n",
    "        print(\"Great, \" + new_user + \" is still available.\")"
   ]
  },
  {
   "cell_type": "code",
   "execution_count": null,
   "metadata": {},
   "outputs": [],
   "source": []
  },
  {
   "cell_type": "code",
   "execution_count": null,
   "metadata": {},
   "outputs": [],
   "source": []
  },
  {
   "cell_type": "code",
   "execution_count": null,
   "metadata": {},
   "outputs": [],
   "source": []
  },
  {
   "cell_type": "markdown",
   "metadata": {},
   "source": [
    "# Q12:"
   ]
  },
  {
   "cell_type": "markdown",
   "metadata": {},
   "source": [
    "Use a dictionary to store information about a person you know.\n",
    "Store their first name, last name, age, and the city in which they live. \n",
    "You should have keys such as first_name, last_name, age, and city. \n",
    "Print each piece of information stored in your dictionary"
   ]
  },
  {
   "cell_type": "code",
   "execution_count": 13,
   "metadata": {},
   "outputs": [
    {
     "name": "stdout",
     "output_type": "stream",
     "text": [
      "eric\n",
      "matthes\n",
      "43\n",
      "sitka\n"
     ]
    }
   ],
   "source": [
    "person = {\n",
    "    'first_name': 'eric',\n",
    "    'last_name': 'matthes',\n",
    "    'age': 43,\n",
    "    'city': 'sitka',\n",
    "    }\n",
    "\n",
    "print(person['first_name'])\n",
    "print(person['last_name'])\n",
    "print(person['age'])\n",
    "print(person['city'])"
   ]
  },
  {
   "cell_type": "code",
   "execution_count": null,
   "metadata": {},
   "outputs": [],
   "source": []
  },
  {
   "cell_type": "code",
   "execution_count": null,
   "metadata": {},
   "outputs": [],
   "source": []
  },
  {
   "cell_type": "code",
   "execution_count": null,
   "metadata": {},
   "outputs": [],
   "source": []
  },
  {
   "cell_type": "markdown",
   "metadata": {},
   "source": [
    "# Q13:"
   ]
  },
  {
   "cell_type": "markdown",
   "metadata": {},
   "source": [
    "Starts with your last question 12 , loop through the dictionary’s keys and values.\n",
    "When you’re sure that your loop works, add five more Python terms to your\n",
    "dictionary . When you run your program again, these new words and meanings\n",
    "should automatically be included in the output."
   ]
  },
  {
   "cell_type": "code",
   "execution_count": 14,
   "metadata": {},
   "outputs": [
    {
     "name": "stdout",
     "output_type": "stream",
     "text": [
      "first_name: eric\n",
      "last_name: matthes\n",
      "age: 43\n",
      "city: sitka\n"
     ]
    }
   ],
   "source": [
    "person = {\n",
    "    \"first_name\": \"eric\",\n",
    "    \"last_name\": \"matthes\",\n",
    "    \"age\": \"43\",\n",
    "    \"city\": \"sitka\",\n",
    "}\n",
    "\n",
    "for key, value in person.items():\n",
    "    print(key + \": \" + value)"
   ]
  },
  {
   "cell_type": "code",
   "execution_count": null,
   "metadata": {},
   "outputs": [],
   "source": []
  },
  {
   "cell_type": "code",
   "execution_count": null,
   "metadata": {},
   "outputs": [],
   "source": []
  },
  {
   "cell_type": "code",
   "execution_count": null,
   "metadata": {},
   "outputs": [],
   "source": []
  },
  {
   "cell_type": "code",
   "execution_count": null,
   "metadata": {},
   "outputs": [],
   "source": []
  },
  {
   "cell_type": "markdown",
   "metadata": {},
   "source": [
    "# Q14:"
   ]
  },
  {
   "cell_type": "markdown",
   "metadata": {},
   "source": [
    "Make a dictionary containing three major rivers and the country\n",
    "each river runs through. One key-value pair might be 'nile': 'egypt'.\n",
    "    \n",
    "    \n",
    "•\t Use a loop to print a sentence about each river, such as The Nile runs\n",
    "through Egypt.\n",
    "\n",
    "NOTE: use upper case through keys and values."
   ]
  },
  {
   "cell_type": "code",
   "execution_count": 15,
   "metadata": {},
   "outputs": [
    {
     "name": "stdout",
     "output_type": "stream",
     "text": [
      "The Nile flows through Egypt.\n",
      "The Mississippi flows through United States.\n",
      "The Fraser flows through Canada.\n",
      "The Kuskokwim flows through Alaska.\n",
      "The Yangtze flows through China.\n",
      "\n",
      "The following rivers are included in this data set:\n",
      "- Nile\n",
      "- Mississippi\n",
      "- Fraser\n",
      "- Kuskokwim\n",
      "- Yangtze\n",
      "\n",
      "The following countries are included in this data set:\n",
      "- Egypt\n",
      "- United States\n",
      "- Canada\n",
      "- Alaska\n",
      "- China\n"
     ]
    }
   ],
   "source": [
    "rivers = {\n",
    "    'nile': 'egypt',\n",
    "    'mississippi': 'united states',\n",
    "    'fraser': 'canada',\n",
    "    'kuskokwim': 'alaska',\n",
    "    'yangtze': 'china',\n",
    "    }\n",
    "\n",
    "for river, country in rivers.items():\n",
    "    print(\"The \" + river.title() + \" flows through \" + country.title() + \".\")\n",
    "\n",
    "print(\"\\nThe following rivers are included in this data set:\")\n",
    "for river in rivers.keys():\n",
    "    print(\"- \" + river.title())\n",
    "\n",
    "print(\"\\nThe following countries are included in this data set:\")\n",
    "for country in rivers.values():\n",
    "    print(\"- \" + country.title())"
   ]
  },
  {
   "cell_type": "code",
   "execution_count": null,
   "metadata": {},
   "outputs": [],
   "source": []
  },
  {
   "cell_type": "code",
   "execution_count": null,
   "metadata": {},
   "outputs": [],
   "source": []
  },
  {
   "cell_type": "markdown",
   "metadata": {},
   "source": [
    "# Q15:"
   ]
  },
  {
   "cell_type": "markdown",
   "metadata": {},
   "source": [
    "Make several dictionaries, where the name of each dictionary is the\n",
    "name of a pet. In each dictionary, include the kind of animal and the owner’s\n",
    "name. Store these dictionaries in a list called pets. Next, loop through your list\n",
    "and as you do print everything you know about each pet."
   ]
  },
  {
   "cell_type": "code",
   "execution_count": 16,
   "metadata": {},
   "outputs": [
    {
     "name": "stdout",
     "output_type": "stream",
     "text": [
      "\n",
      "Here's what I know about John:\n",
      "\tanimal type: python\n",
      "\tname: john\n",
      "\towner: guido\n",
      "\tweight: 43\n",
      "\teats: bugs\n",
      "\n",
      "Here's what I know about Clarence:\n",
      "\tanimal type: chicken\n",
      "\tname: clarence\n",
      "\towner: tiffany\n",
      "\tweight: 2\n",
      "\teats: seeds\n",
      "\n",
      "Here's what I know about Peso:\n",
      "\tanimal type: dog\n",
      "\tname: peso\n",
      "\towner: eric\n",
      "\tweight: 37\n",
      "\teats: shoes\n"
     ]
    }
   ],
   "source": [
    "pets = []\n",
    "\n",
    "\n",
    "pet = {\n",
    "    'animal type': 'python',\n",
    "    'name': 'john',\n",
    "    'owner': 'guido',\n",
    "    'weight': 43,\n",
    "    'eats': 'bugs',\n",
    "}\n",
    "pets.append(pet)\n",
    "\n",
    "pet = {\n",
    "    'animal type': 'chicken',\n",
    "    'name': 'clarence',\n",
    "    'owner': 'tiffany',\n",
    "    'weight': 2,\n",
    "    'eats': 'seeds',\n",
    "}\n",
    "pets.append(pet)\n",
    "\n",
    "pet = {\n",
    "    'animal type': 'dog',\n",
    "    'name': 'peso',\n",
    "    'owner': 'eric',\n",
    "    'weight': 37,\n",
    "    'eats': 'shoes',\n",
    "}\n",
    "pets.append(pet)\n",
    "\n",
    "\n",
    "for pet in pets:\n",
    "    print(\"\\nHere's what I know about \" + pet['name'].title() + \":\")\n",
    "    for key, value in pet.items():\n",
    "        print(\"\\t\" + key + \": \" + str(value))"
   ]
  },
  {
   "cell_type": "code",
   "execution_count": null,
   "metadata": {},
   "outputs": [],
   "source": []
  }
 ],
 "metadata": {
  "kernelspec": {
   "display_name": "Python 3",
   "language": "python",
   "name": "python3"
  },
  "language_info": {
   "codemirror_mode": {
    "name": "ipython",
    "version": 3
   },
   "file_extension": ".py",
   "mimetype": "text/x-python",
   "name": "python",
   "nbconvert_exporter": "python",
   "pygments_lexer": "ipython3",
   "version": "3.7.0"
  }
 },
 "nbformat": 4,
 "nbformat_minor": 2
}
